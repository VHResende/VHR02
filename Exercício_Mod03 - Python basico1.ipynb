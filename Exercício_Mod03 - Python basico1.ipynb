{
 "cells": [
  {
   "cell_type": "markdown",
   "metadata": {
    "id": "SEE0vQsW83yB"
   },
   "source": [
    "### 01 - Teste de gravidez\n",
    "Escreva uma célula com controle de fluxos que tem como premissa a existência das seguintes variáveis:\n",
    "\n",
    "- ```sexo``` como ```str``` indicando os valores '**M**' para masculino e '**F**' para feminino  \n",
    "- ```beta_hcg``` que indica a quantidade do beta-HCG no sangue em mUI/mL.\n",
    "\n",
    "A sua tarefa é escrever um código que imprima como resultado \"indivíduo do sexo masculino\" quando sexo = 'M', caso sexo = 'F', se o valor de beta-HCG for maior que 5, retorne \"Positivo\" indicando que a paciente está grávida, e retorne \"Negativo\" caso contrário.\n",
    "\n",
    "Não mexa nos valores da variável ```sexo``` nem em ```beta_hcg```, e escreva um código que funcione para quaisquer valores possíveis de ambos: ```sexo``` = '**M**' ou '**F**' e ```beta_hcg``` assumindo valores inteiros positivos."
   ]
  },
  {
   "cell_type": "code",
   "execution_count": 42,
   "metadata": {},
   "outputs": [
    {
     "name": "stdin",
     "output_type": "stream",
     "text": [
      "Digite (M) para Masculino ou (F) para Feminino <tecle enter>: f\n",
      "Digite o valor de beta-HCG <tecle enter>: 8\n"
     ]
    },
    {
     "name": "stdout",
     "output_type": "stream",
     "text": [
      "Resultado: Positivo. Parabéns, mamãe!\n"
     ]
    }
   ],
   "source": [
    "sexo = 'M'\n",
    "beta_hcg = 0\n",
    "\n",
    "# Código:\n",
    "\n",
    "sexo = input('Digite (M) para Masculino ou (F) para Feminino <tecle enter>:').upper() # o método .upper() converte para maiúsculo m ou f, garantindo a resposta adequada\n",
    "\n",
    "if sexo == 'M':\n",
    "    print('Indivíduo do sexo masculino.')\n",
    "elif sexo == 'F':\n",
    "    beta_hcg = int(input('Digite o valor de beta-HCG <tecle enter>:')) #função int converte para número inteiro\n",
    "    if beta_hcg <= 5:\n",
    "        print('Resultado: Negativo.')\n",
    "    else:\n",
    "        print('Resultado: Positivo. Parabéns, mamãe!')\n",
    "else:\n",
    "    print('Sexo inválido, por favor digite (M) ou (F).') #caso seja digitado valor fora de M ou F\n"
   ]
  },
  {
   "cell_type": "markdown",
   "metadata": {
    "id": "uCoIZDE383yF"
   },
   "source": [
    "### 02 - Renomeando variáveis\n",
    "\n",
    "Vamos ver adiante que uma forma de renomear variáveis de um conjunto de dados é através de dicionários - o dicionário deve conter como chave o nome original, associando a cada chave um único valor (tipo *str*) que contenha o nome novo.\n",
    "\n",
    "A sua tarefa é escrever um dicionário que possa ser utilizado para traduzir as variáveis ```name``` (nome), ```age``` (idade) e ```income``` (renda). Ou seja, esse dicionário deve relacionar as chaves *name, age* e *income* às suas respectivas traduções."
   ]
  },
  {
   "cell_type": "code",
   "execution_count": 44,
   "metadata": {
    "id": "Bh6ijpbu83yG",
    "outputId": "58fbd8da-ed1d-4e05-df85-041c821948f2"
   },
   "outputs": [
    {
     "data": {
      "text/plain": [
       "{'name': 'nome', 'age': 'idade', 'income': 'renda'}"
      ]
     },
     "execution_count": 44,
     "metadata": {},
     "output_type": "execute_result"
    }
   ],
   "source": [
    "dic_renomeacao = {'name': 'nome', 'age': 'idade', 'income': 'renda'}\n",
    "dic_renomeacao"
   ]
  },
  {
   "cell_type": "markdown",
   "metadata": {
    "id": "95zumO5g83yH"
   },
   "source": [
    "### 03 - É divisível?\n",
    "A sua tarefa é escrever um código que indique se um número ```N``` é divisível por um número P. Escreva um programa que faça essa verificação para quaisquer combinações de ```N``` e ```M``` e devolva uma mensagem indicativa no output."
   ]
  },
  {
   "cell_type": "code",
   "execution_count": 3,
   "metadata": {
    "id": "BR2zOhmN83yI"
   },
   "outputs": [
    {
     "name": "stdin",
     "output_type": "stream",
     "text": [
      "Digite o número N <tecle enter>: 10\n",
      "Digite o número M (diferente de 0) <tecle enter>: 11\n"
     ]
    },
    {
     "name": "stdout",
     "output_type": "stream",
     "text": [
      "O número 10 não é divisível por 11.\n"
     ]
    }
   ],
   "source": [
    "N = 42\n",
    "M = 7\n",
    "\n",
    "# Código:\n",
    "\n",
    "N = int(input('Digite o número N <tecle enter>:'))\n",
    "M = int(input('Digite o número M (diferente de 0) <tecle enter>:'))\n",
    "if N%M == 0: #condição que verifica se o número N é divisível por M, ou seja, não deixa resto.\n",
    "    print('O número %d é divisível por %d.' %(N,M))\n",
    "else:\n",
    "    print('O número %d não é divisível por %d.' %(N,M))"
   ]
  },
  {
   "cell_type": "markdown",
   "metadata": {
    "id": "0d5Kdrz283yJ"
   },
   "source": [
    "### 04 - Números primos\n",
    "> Um número **N** é primo se e somente se é divisível por 1, -1, por **N** e por -**N**.  \n",
    "\n",
    "Escreva um script que verifica se ```N``` é um número primo, verificando se ```N``` é divisível por todos os números de ```1``` a ```N-1```. Você vai precisar usar alguma ferramenta de *loop* que você aprendeu para isto. No final, devolva uma mensagem no output indicando se o número é primo ou não."
   ]
  },
  {
   "cell_type": "code",
   "execution_count": 11,
   "metadata": {},
   "outputs": [
    {
     "name": "stdin",
     "output_type": "stream",
     "text": [
      "Digite o número N <tecle enter>:  47\n"
     ]
    },
    {
     "name": "stdout",
     "output_type": "stream",
     "text": [
      "O número 47 é primo.\n"
     ]
    }
   ],
   "source": [
    "N = 47\n",
    "\n",
    "# Código:\n",
    "\n",
    "N = int(input('Digite o número N <tecle enter>: ')) # Recebe a entrada do usuário\n",
    "\n",
    "n_primo = True # variável para determinar se é primo\n",
    "\n",
    "i = 2 # Inicializa o divisor\n",
    "\n",
    "while i < N: # Verifica a divisibilidade de 2 até N-1 usando um loop while\n",
    "    if N % i == 0:\n",
    "        n_primo = False\n",
    "        break\n",
    "    i += 1\n",
    "\n",
    "if n_primo and N > 1:\n",
    "    print(f'O número {N} é primo.') # Imprime o resultado\n",
    "else:\n",
    "    print(f'O número {N} não é primo.') # Imprime o resultado\n"
   ]
  },
  {
   "cell_type": "markdown",
   "metadata": {
    "id": "zHwDnURO83yK"
   },
   "source": [
    "### 05 - Desafio\n",
    "O algorítmo do exercício anterior não é o mais eficiente. O que você pode fazer para deixá-lo mais eficiente? Ou seja, executar menos comparações, portanto consumir menos tempo.\n",
    "1. Será que precisamos correr o loop até o final sempre?\n",
    "2. Será que precisamos mesmo verificar **todos** os números?\n",
    "3. Será que precisamos ir até N-1?\n",
    "\n",
    "Essas perguntas levam ao tipo de pensamento voltado a deixar um algoritmo mais eficiente. Veja se você consegue melhorar o seu."
   ]
  },
  {
   "cell_type": "code",
   "execution_count": 9,
   "metadata": {
    "id": "DDdwfZOL83yM"
   },
   "outputs": [
    {
     "name": "stdin",
     "output_type": "stream",
     "text": [
      "Digite o número N <tecle enter>:  98\n"
     ]
    },
    {
     "name": "stdout",
     "output_type": "stream",
     "text": [
      "O número 98 não é primo\n"
     ]
    }
   ],
   "source": [
    "N = 98\n",
    "\n",
    "# Deixando o código mais eficiente:\n",
    "\n",
    "N = int(input('Digite o número N <tecle enter>: ')) # Recebe a entrada do usuário\n",
    "\n",
    "n_primo = True # Inicializa uma variável para determinar se é primo\n",
    "\n",
    "# Eliminando casos especiais: 0, 1 e números negativos não são primos\n",
    "if N <= 1:\n",
    "    is_prime = False\n",
    "elif N == 2:\n",
    "    is_prime = True  # 2 é primo\n",
    "elif N % 2 == 0:\n",
    "    is_prime = False  # números pares maiores que 2 não são primos\n",
    "else:\n",
    "    # Verificando a divisibilidade de 3 até a metade de N, pulando os números pares\n",
    "    divisor = 3\n",
    "    while divisor <= N // 2:\n",
    "        if N % divisor == 0:\n",
    "            is_prime = False\n",
    "            break\n",
    "        divisor += 2  # Pula os números pares\n",
    "\n",
    "if is_prime:\n",
    "    print(f'O número {N} é primo') # Imprime o resultado\n",
    "else:\n",
    "    print(f'O número {N} não é primo') # Imprime o resultado\n",
    "\n"
   ]
  },
  {
   "cell_type": "markdown",
   "metadata": {
    "id": "4zhVSQan83yN"
   },
   "source": [
    "### 06 - Peso ideal 1\n",
    "O IMC (índice de massa corpórea) é um indicador de saúde mais bem aceito que o peso. Ele é calculado como:\n",
    "\n",
    "$$ IMC = \\dfrac{peso}{altura^2}$$\n",
    "\n",
    "Segundo a OMS, valores *normais* são entre 18.5 e 24.9.\n",
    "\n",
    "Sua tarefa é encontrar o ponto médio dessa faixa."
   ]
  },
  {
   "cell_type": "code",
   "execution_count": 17,
   "metadata": {
    "id": "3DzxicN983yO",
    "outputId": "6a947e58-88b2-4764-a9ca-717b971adb3d"
   },
   "outputs": [
    {
     "data": {
      "text/plain": [
       "21.7"
      ]
     },
     "execution_count": 17,
     "metadata": {},
     "output_type": "execute_result"
    }
   ],
   "source": [
    "imc_ideal = (18.5+24.9)/2\n",
    "imc_ideal"
   ]
  },
  {
   "cell_type": "markdown",
   "metadata": {
    "id": "Z8uBOym483yP"
   },
   "source": [
    "### 07 - Peso ideal 2\n",
    "Recebendo um valor de altura, encontre o peso '*ideal*' dessa pessoa, que fornece o IMC encontrado acima"
   ]
  },
  {
   "cell_type": "code",
   "execution_count": 20,
   "metadata": {
    "id": "rrNwycte83yP",
    "outputId": "0e63b2ff-3743-48c7-a472-b48a450a0867"
   },
   "outputs": [
    {
     "data": {
      "text/plain": [
       "7.51"
      ]
     },
     "execution_count": 20,
     "metadata": {},
     "output_type": "execute_result"
    }
   ],
   "source": [
    "altura = 1.70\n",
    "\n",
    "# Seu código\n",
    "peso_ideal = round(imc_ideal/(altura)**2, 2) #aplicando a função round para arredondamento de casas.\n",
    "peso_ideal"
   ]
  },
  {
   "cell_type": "markdown",
   "metadata": {
    "id": "zEdM6J_i83yP"
   },
   "source": [
    "### 08 - Peso ideal 3\n",
    "Dada uma lista contendo as alturas de pacientes, crie uma nova lista que contenha o peso '*ideal*' (que fornece o IMC calculado em **Peso ideal 1**) desses pacientes."
   ]
  },
  {
   "cell_type": "code",
   "execution_count": 51,
   "metadata": {
    "id": "KN1mB_My83yQ",
    "outputId": "f070d54d-c156-4546-e3c7-b5bc500059d9"
   },
   "outputs": [
    {
     "name": "stdout",
     "output_type": "stream",
     "text": [
      "Peso ideal para 1.95: 82.51\n",
      "Peso ideal para 2.05: 91.19\n",
      "Peso ideal para 1.70: 62.71\n",
      "Peso ideal para 1.65: 59.08\n"
     ]
    }
   ],
   "source": [
    "lista_alturas = [1.95, 2.05, 1.70, 1.65]\n",
    "\n",
    "lista_peso_ideal = []\n",
    "\n",
    "# Código:\n",
    "\n",
    "imc_ideal = 21.7\n",
    "lista_alturas = [1.95, 2.05, 1.70, 1.65]\n",
    "lista_peso_ideal = []\n",
    "\n",
    "for altura in lista_alturas:\n",
    "    peso_ideal = imc_ideal * (altura ** 2)\n",
    "    lista_peso_ideal.append(peso_ideal) #append acrecentar valores à lista dentro do laço for de repetição.\n",
    "\n",
    "for altura, peso_ideal in zip(lista_alturas, lista_peso_ideal): # Imprimindo cada peso ideal com a altura correspondente, com o método zip, para iterar de forma simultânea.\n",
    "    print(f'Peso ideal para{altura: .2f}:{peso_ideal: .2f}') #concatena duas variáives e retorna com o valor arredondado."
   ]
  },
  {
   "cell_type": "markdown",
   "metadata": {
    "id": "8OKAtYQM83yQ"
   },
   "source": [
    "### 09 - Peso ideal 4\n",
    "Dada uma lista de tuplas - cada elemento da lista é uma tupla contendo altura e peso de um paciente - crie uma nova lista com o IMC desses pacientes."
   ]
  },
  {
   "cell_type": "code",
   "execution_count": 71,
   "metadata": {
    "id": "FaXgkjzI83yQ",
    "outputId": "8adc5e59-8a72-42db-db6b-6895587e875e"
   },
   "outputs": [
    {
     "name": "stdout",
     "output_type": "stream",
     "text": [
      "Peso ideal (IMC) para 1.80 e para 90.00 kg: 27.78\n",
      "Peso ideal (IMC) para 1.65 e para 75.00 kg: 27.55\n",
      "Peso ideal (IMC) para 1.91 e para 70.00 kg: 19.19\n"
     ]
    }
   ],
   "source": [
    "altura_peso = [(1.80, 90), (1.65, 75), (1.91, 70)]\n",
    "\n",
    "imc = []\n",
    "\n",
    "# seu código\n",
    "\n",
    "for altura, peso in altura_peso:\n",
    "    imc_paciente = peso / (altura**2)\n",
    "    imc.append(round(imc_paciente, 2)) #acrescentando valores à lista.\n",
    "\n",
    "for (altura, peso), imc_paciente in zip(altura_peso, imc): # Imprimindo cada peso com a altura correspondente e imc, com o método zip, para iterar de forma simultânea.\n",
    "    print(f'Peso ideal (IMC) para{altura: .2f} e para{peso: .2f} kg:{imc_paciente: .2f}') #concatena duas variáives e retorna com o valor arredondado."
   ]
  },
  {
   "cell_type": "markdown",
   "metadata": {
    "id": "kZdSJqJq83yR"
   },
   "source": [
    "### 10 - Peso ideal 5\n",
    "Dada uma lista de **listas** - cada elemento da lista é uma **lista** contendo altura e peso de um paciente, adicione mais um elemento à lista de cada paciente contendo o IMC do paciente. Verifique também se é 'baixo', 'normal' ou 'alto' segundo os padrões da OMS em que normal é entre 18.5 e 24.9.\n",
    "\n",
    "Reflexão: por que no problema anterior temos que criar uma nova lista, e não podemos adicionar os dados de cada indivíduo à tupla?"
   ]
  },
  {
   "cell_type": "code",
   "execution_count": 77,
   "metadata": {
    "id": "EwszojP283yR"
   },
   "outputs": [
    {
     "name": "stdout",
     "output_type": "stream",
     "text": [
      "Peso ideal (IMC) para 1.80 e para 90.00 kg: 27.78 (normal)\n",
      "Peso ideal (IMC) para 1.65 e para 75.00 kg: 27.55 (normal)\n",
      "Peso ideal (IMC) para 1.91 e para 70.00 kg: 19.19 (normal)\n"
     ]
    }
   ],
   "source": [
    "altura_peso = [[1.80, 90], [1.65, 75], [1.91, 70]]\n",
    "\n",
    "# Código:\n",
    "\n",
    "for altura, peso in altura_peso:\n",
    "    imc_paciente = peso / (altura**2)\n",
    "    imc.append(round(imc_paciente, 2)) #acrescentando valores à lista.\n",
    "\n",
    "if imc_paciente < 18.5: #varificando a categoria dentro dos padrões da OMS.\n",
    "        categoria = \"abaixo do normal\"\n",
    "elif 18.5 <= imc_paciente <= 24.0:\n",
    "        categoria = \"normal\"\n",
    "else:\n",
    "        categoria = \"acima do normal\"\n",
    "\n",
    "for (altura, peso), imc_paciente in zip(altura_peso, imc): # Imprimindo cada peso com a altura correspondente e imc, com o método zip, para iterar de forma simultânea.\n",
    "    print(f'Peso ideal (IMC) para{altura: .2f} e para{peso: .2f} kg:{imc_paciente: .2f} ({categoria})') #concatena duas variáives e retorna com o valor arredondado.\n"
   ]
  }
 ],
 "metadata": {
  "colab": {
   "collapsed_sections": [],
   "provenance": []
  },
  "kernelspec": {
   "display_name": "Python 3 (ipykernel)",
   "language": "python",
   "name": "python3"
  },
  "language_info": {
   "codemirror_mode": {
    "name": "ipython",
    "version": 3
   },
   "file_extension": ".py",
   "mimetype": "text/x-python",
   "name": "python",
   "nbconvert_exporter": "python",
   "pygments_lexer": "ipython3",
   "version": "3.11.7"
  }
 },
 "nbformat": 4,
 "nbformat_minor": 4
}
